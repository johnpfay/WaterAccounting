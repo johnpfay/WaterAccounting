{
 "cells": [
  {
   "cell_type": "code",
   "execution_count": 1,
   "metadata": {
    "collapsed": true
   },
   "outputs": [],
   "source": [
    "from matplotlib import pyplot as plt\n",
    "import pandas as pd\n",
    "import netCDF4"
   ]
  },
  {
   "cell_type": "code",
   "execution_count": 2,
   "metadata": {
    "collapsed": true
   },
   "outputs": [],
   "source": [
    "url='https://thredds.daac.ornl.gov/thredds/dodsC/ornldaac/1343/daymet_v3_prcp_annttl_1980_hi.nc4'"
   ]
  },
  {
   "cell_type": "code",
   "execution_count": 3,
   "metadata": {
    "collapsed": true
   },
   "outputs": [],
   "source": [
    "nc = netCDF4.Dataset(url)"
   ]
  },
  {
   "cell_type": "code",
   "execution_count": 4,
   "metadata": {},
   "outputs": [
    {
     "data": {
      "text/plain": [
       "OrderedDict([(u'time_bnds', <netCDF4.Variable at 0x90f5df0>),\n",
       "             (u'lambert_conformal_conic', <netCDF4.Variable at 0x90f5d50>),\n",
       "             (u'time', <netCDF4.Variable at 0x90f5cb0>),\n",
       "             (u'x', <netCDF4.Variable at 0x90f5c60>),\n",
       "             (u'y', <netCDF4.Variable at 0x90f5c10>),\n",
       "             (u'lat', <netCDF4.Variable at 0x90f5d00>),\n",
       "             (u'lon', <netCDF4.Variable at 0x90f5bc0>),\n",
       "             (u'prcp', <netCDF4.Variable at 0x90f5b70>)])"
      ]
     },
     "execution_count": 4,
     "metadata": {},
     "output_type": "execute_result"
    }
   ],
   "source": [
    "nc.variables"
   ]
  },
  {
   "cell_type": "code",
   "execution_count": 5,
   "metadata": {
    "collapsed": true
   },
   "outputs": [],
   "source": [
    "h = nc.variables['x']"
   ]
  },
  {
   "cell_type": "code",
   "execution_count": 14,
   "metadata": {},
   "outputs": [
    {
     "data": {
      "text/plain": [
       "0   -5801250.0\n",
       "dtype: float64"
      ]
     },
     "execution_count": 14,
     "metadata": {},
     "output_type": "execute_result"
    }
   ],
   "source": [
    "df = pd.Series(h[1])\n",
    "df"
   ]
  },
  {
   "cell_type": "code",
   "execution_count": 16,
   "metadata": {},
   "outputs": [],
   "source": [
    "url='https://cida.usgs.gov/thredds/dodsC/ssebopeta/monthly'\n",
    "nc2 = netCDF4.Dataset(url)"
   ]
  },
  {
   "cell_type": "code",
   "execution_count": 17,
   "metadata": {},
   "outputs": [
    {
     "data": {
      "text/plain": [
       "OrderedDict([(u'time', <netCDF4.Variable at 0x91778f0>),\n",
       "             (u'lat', <netCDF4.Variable at 0x9177940>),\n",
       "             (u'lon', <netCDF4.Variable at 0x9177990>),\n",
       "             (u'crs', <netCDF4.Variable at 0x91779e0>),\n",
       "             (u'et', <netCDF4.Variable at 0x9177a30>)])"
      ]
     },
     "execution_count": 17,
     "metadata": {},
     "output_type": "execute_result"
    }
   ],
   "source": [
    "nc2.variables"
   ]
  },
  {
   "cell_type": "code",
   "execution_count": null,
   "metadata": {
    "collapsed": true
   },
   "outputs": [],
   "source": []
  }
 ],
 "metadata": {
  "kernelspec": {
   "display_name": "Python 2",
   "language": "python",
   "name": "python2"
  },
  "language_info": {
   "codemirror_mode": {
    "name": "ipython",
    "version": 2
   },
   "file_extension": ".py",
   "mimetype": "text/x-python",
   "name": "python",
   "nbconvert_exporter": "python",
   "pygments_lexer": "ipython2",
   "version": "2.7.12"
  }
 },
 "nbformat": 4,
 "nbformat_minor": 2
}
