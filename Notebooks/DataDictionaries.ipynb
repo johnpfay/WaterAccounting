{
 "cells": [
  {
   "cell_type": "code",
   "execution_count": 1,
   "metadata": {
    "collapsed": true
   },
   "outputs": [],
   "source": [
    "import sys, os\n",
    "import pandas as pd"
   ]
  },
  {
   "cell_type": "code",
   "execution_count": 2,
   "metadata": {},
   "outputs": [],
   "source": [
    "df00 = pd.read_table(\"Data/DDict2000.txt\")\n",
    "df05 = pd.read_table(\"Data/DDict2005.txt\")\n",
    "df10 = pd.read_table(\"Data/DDict2010.txt\")"
   ]
  },
  {
   "cell_type": "code",
   "execution_count": 3,
   "metadata": {},
   "outputs": [],
   "source": [
    "#Change \"Column Tag\" name to year\n",
    "df00.rename(columns={\"Column Tag \":\"year2000\",\"Data Element\":\"D00\"},inplace=True)\n",
    "df05.rename(columns={\"Column Tag \":\"year2005\",\"Data Element\":\"D05\"},inplace=True)\n",
    "df10.rename(columns={\"Column Tag \":\"year2010\",\"Data Element\":\"D10\"},inplace=True)"
   ]
  },
  {
   "cell_type": "code",
   "execution_count": 5,
   "metadata": {},
   "outputs": [],
   "source": [
    "#Make known edits to align field names\n",
    "df00.replace(['IT-','LA-','LS-','PE-'],['IC-','AQ-','LI-','PT-'],inplace=True,regex=True)\n",
    "df05.replace(['LA-','LS-'],['AQ-','LI-'],inplace=True,regex=True)"
   ]
  },
  {
   "cell_type": "code",
   "execution_count": null,
   "metadata": {
    "collapsed": true
   },
   "outputs": [],
   "source": [
    "#Merge the records\n",
    "dfAll = pd.merge(df10,df05,how='outer',left_on='year2010',right_on='year2005')\n",
    "dfAll = pd.merge(dfAll,df00,how='outer',left_on='year2010',right_on='year2000')"
   ]
  },
  {
   "cell_type": "code",
   "execution_count": null,
   "metadata": {
    "collapsed": true
   },
   "outputs": [],
   "source": [
    "#Write to file\n",
    "dfAll[['year2010','year2005','year2000','D10','D05','D00']].to_csv(\"Data/AllDict.csv\",index=False)"
   ]
  }
 ],
 "metadata": {
  "kernelspec": {
   "display_name": "Python 2",
   "language": "python",
   "name": "python2"
  },
  "language_info": {
   "codemirror_mode": {
    "name": "ipython",
    "version": 2
   },
   "file_extension": ".py",
   "mimetype": "text/x-python",
   "name": "python",
   "nbconvert_exporter": "python",
   "pygments_lexer": "ipython2",
   "version": "2.7.12"
  }
 },
 "nbformat": 4,
 "nbformat_minor": 2
}
