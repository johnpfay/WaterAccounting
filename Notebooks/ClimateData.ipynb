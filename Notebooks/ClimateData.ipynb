{
 "cells": [
  {
   "cell_type": "markdown",
   "metadata": {},
   "source": [
    "#### Downscaled Climate Projections Archive processing\n",
    "###### Workflow\n",
    "* Submit data request\n",
    "* Download data to data folder\n",
    "* Process NetCDF files into dataframes\n",
    "* Compute annual means (2000, 2005, and 2010) from monthly data\n",
    "* Compute means for each state"
   ]
  },
  {
   "cell_type": "code",
   "execution_count": 5,
   "metadata": {
    "collapsed": true
   },
   "outputs": [],
   "source": [
    "#Import libraries\n",
    "import sys, os, glob, time, datetime\n",
    "import numpy as np\n",
    "import pandas as pd\n",
    "import netCDF4\n",
    "import matplotlib\n",
    "%matplotlib inline"
   ]
  },
  {
   "cell_type": "code",
   "execution_count": 6,
   "metadata": {},
   "outputs": [
    {
     "name": "stdout",
     "output_type": "stream",
     "text": [
      "C:\\Workspace\\Gits\\WaterAccounting\\Data\\hydro5\\Extraction_et.nc\n"
     ]
    }
   ],
   "source": [
    "#Get nc filenames\n",
    "dataFolder = r'C:\\Workspace\\Gits\\WaterAccounting\\Data\\hydro5\\*.nc'\n",
    "dataFiles = glob.glob(dataFolder)\n",
    "dataFile = dataFiles[0]\n",
    "print dataFile"
   ]
  },
  {
   "cell_type": "code",
   "execution_count": 7,
   "metadata": {
    "collapsed": true
   },
   "outputs": [],
   "source": [
    "#Convert NetCDF to pandas dataframe for each year\n",
    "nc = netCDF4.Dataset(dataFile,mode='r')\n",
    "lats = nc.variables['latitude'][:]\n",
    "lons = nc.variables['longitude'][:]\n",
    "times = nc.variables['time']\n",
    "et = nc.variables['et']"
   ]
  },
  {
   "cell_type": "code",
   "execution_count": null,
   "metadata": {
    "collapsed": true
   },
   "outputs": [],
   "source": [
    "#Format of the et variable\n",
    "print et.shape\n",
    "#21 different projections\n",
    "#132 months (Jan 2000 thru Dec 2010)\n",
    "#216 N-S samples (latitudes)\n",
    "#460 E-W samples (longitudes)"
   ]
  },
  {
   "cell_type": "code",
   "execution_count": 20,
   "metadata": {},
   "outputs": [
    {
     "name": "stdout",
     "output_type": "stream",
     "text": [
      "(216, 460) (216, 460) (216, 460)\n"
     ]
    }
   ],
   "source": [
    "#Make yearly means of the ccsm4.1.rcp26 projection (idx = 2)\n",
    "\n",
    "#Set the index of the climate model to use -- see projections5.txt\n",
    "rcpIndex = 2 #ccsm4.1.rcp26 \n",
    "\n",
    "t0 = 0\n",
    "et2000 = et[rcpIndex,t0:t0+12,:,:].mean(axis=0)\n",
    "\n",
    "t5 = 5 * 12\n",
    "et2005 = et[rcpIndex,t5:t5+12,:,:].mean(axis=0)\n",
    "\n",
    "t10 = 10 * 12\n",
    "et2010 = et[rcpIndex,t10:t10+12,:,:].mean(axis=0)\n",
    "\n",
    "print et2000.shape, et2005.shape, et2010.shape\n",
    "#This leaves us with 3 ndarrays: one for each year with et values at each lat/long"
   ]
  },
  {
   "cell_type": "code",
   "execution_count": 38,
   "metadata": {},
   "outputs": [],
   "source": [
    "#Export as table of x,y, et\n",
    "outFile = open(\"foo.csv\",'wt')\n",
    "outFile.write(\"Longitude,Latitude,ET2000,ET2005,ET2010\\n\")\n",
    "for x in xrange(lons.size):\n",
    "    for y in xrange(lats.size):\n",
    "        etVal00 = et2000[y,x]\n",
    "        etVal05 = et2005[y,x]\n",
    "        etVal10 = et2010[y,x]\n",
    "        outStr = \"{},{},{},{},{}\\n\".format(lons[x],lats[y],etVal00,etVal05,etVal10)\n",
    "        if type(et2005[y,x]) is not np.ma.core.MaskedConstant: \n",
    "            outFile.write(outStr)\n",
    "outFile.close()\n",
    "        "
   ]
  },
  {
   "cell_type": "code",
   "execution_count": 34,
   "metadata": {},
   "outputs": [
    {
     "data": {
      "text/plain": [
       "False"
      ]
     },
     "execution_count": 34,
     "metadata": {},
     "output_type": "execute_result"
    }
   ],
   "source": [
    "type(et2005[x,y]) is not np.ma.core.MaskedConstant"
   ]
  },
  {
   "cell_type": "code",
   "execution_count": null,
   "metadata": {
    "collapsed": true
   },
   "outputs": [],
   "source": [
    "np.savetxt(\"foo.csv\",np.asarray(et2000)[:,:],delimiter=',')\n",
    "#df = pd.DataFrame(et2000.tolist())\n",
    "#np.savetxt(\"foo.csv\",np.asarray(et2000))"
   ]
  },
  {
   "cell_type": "code",
   "execution_count": null,
   "metadata": {
    "collapsed": true
   },
   "outputs": [],
   "source": [
    "print df.shape\n",
    "print et2000.shape"
   ]
  },
  {
   "cell_type": "code",
   "execution_count": null,
   "metadata": {
    "collapsed": true
   },
   "outputs": [],
   "source": [
    "print times.units\n",
    "print times[-1]\n",
    "start = datetime.date(1950,1,1)\n",
    "delta = datetime.timedelta(int(times[72]))\n",
    "offset = start + delta\n",
    "print offset"
   ]
  }
 ],
 "metadata": {
  "kernelspec": {
   "display_name": "Python 2",
   "language": "python",
   "name": "python2"
  },
  "language_info": {
   "codemirror_mode": {
    "name": "ipython",
    "version": 2
   },
   "file_extension": ".py",
   "mimetype": "text/x-python",
   "name": "python",
   "nbconvert_exporter": "python",
   "pygments_lexer": "ipython2",
   "version": "2.7.12"
  }
 },
 "nbformat": 4,
 "nbformat_minor": 2
}
