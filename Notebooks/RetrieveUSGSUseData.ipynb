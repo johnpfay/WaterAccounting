{
 "cells": [
  {
   "cell_type": "code",
   "execution_count": 2,
   "metadata": {
    "collapsed": true
   },
   "outputs": [],
   "source": [
    "import pandas as pd"
   ]
  },
  {
   "cell_type": "code",
   "execution_count": 3,
   "metadata": {
    "collapsed": true
   },
   "outputs": [],
   "source": [
    "#Create a master data frame from the yearly file/url\n",
    "theBaseURL = 'http://water.usgs.gov/watuse/data/{0}/usco{0}.txt' #Use format to replace {0} with year"
   ]
  },
  {
   "cell_type": "code",
   "execution_count": 7,
   "metadata": {},
   "outputs": [
    {
     "name": "stdout",
     "output_type": "stream",
     "text": [
      "Creating data frame for year 2000...\n",
      "Creating data frame for year 2005...\n",
      "Creating data frame for year 2010...\n"
     ]
    }
   ],
   "source": [
    "#Download each year as a dataframe and add to list\n",
    "dfList = []\n",
    "for year in (2000,2005,2010):\n",
    "    print \"Creating data frame for year {}...\".format(year)\n",
    "    #Create data frames from on-line tables\n",
    "    df = pd.read_table(theBaseURL.format(year))\n",
    "    #Insert year column if not there already\n",
    "    if not \"YEAR\" in df.columns:\n",
    "        df.insert(4,\"YEAR\",year)\n",
    "    #Append to list of dataframes\n",
    "    dfList.append(df)"
   ]
  },
  {
   "cell_type": "code",
   "execution_count": null,
   "metadata": {
    "collapsed": true
   },
   "outputs": [],
   "source": [
    "#Merge into a single dataframe\n",
    "df = pd.concat(dfList)"
   ]
  },
  {
   "cell_type": "code",
   "execution_count": 10,
   "metadata": {},
   "outputs": [
    {
     "data": {
      "text/plain": [
       "(9670, 139)"
      ]
     },
     "execution_count": 10,
     "metadata": {},
     "output_type": "execute_result"
    }
   ],
   "source": [
    "df.shape"
   ]
  },
  {
   "cell_type": "code",
   "execution_count": 12,
   "metadata": {
    "collapsed": true
   },
   "outputs": [],
   "source": [
    "df.to_csv(\"allData.csv\")"
   ]
  }
 ],
 "metadata": {
  "kernelspec": {
   "display_name": "Python 2",
   "language": "python",
   "name": "python2"
  },
  "language_info": {
   "codemirror_mode": {
    "name": "ipython",
    "version": 2
   },
   "file_extension": ".py",
   "mimetype": "text/x-python",
   "name": "python",
   "nbconvert_exporter": "python",
   "pygments_lexer": "ipython2",
   "version": "2.7.12"
  }
 },
 "nbformat": 4,
 "nbformat_minor": 2
}
